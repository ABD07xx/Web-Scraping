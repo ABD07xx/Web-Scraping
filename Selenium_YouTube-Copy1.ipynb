{
 "cells": [
  {
   "cell_type": "code",
   "execution_count": 1,
   "metadata": {},
   "outputs": [],
   "source": [
    "import pandas as pd\n",
    "import requests\n",
    "from bs4 import BeautifulSoup"
   ]
  },
  {
   "cell_type": "code",
   "execution_count": 2,
   "metadata": {},
   "outputs": [],
   "source": [
    "link = 'https://www.youtube.com/c/GeeksforGeeksVideos/videos'\n"
   ]
  },
  {
   "cell_type": "markdown",
   "metadata": {},
   "source": [
    "### Setting up Selenium"
   ]
  },
  {
   "cell_type": "code",
   "execution_count": 3,
   "metadata": {},
   "outputs": [],
   "source": [
    "#!pip install selenium (already installed)\n",
    "#!pip install chromedriver_binary (already installed)\n",
    "from selenium import webdriver\n",
    "import chromedriver_binary"
   ]
  },
  {
   "cell_type": "code",
   "execution_count": 4,
   "metadata": {},
   "outputs": [
    {
     "name": "stderr",
     "output_type": "stream",
     "text": [
      "<ipython-input-4-3f884423f0cf>:1: DeprecationWarning: executable_path has been deprecated, please pass in a Service object\n",
      "  browser = webdriver.Chrome(r\"C:\\Users\\Abdullah Fazili\\Downloads\\chromedriver_win32 (2)\\chromedriver.exe\")\n"
     ]
    }
   ],
   "source": [
    "browser = webdriver.Chrome(r\"C:\\Users\\Abdullah Fazili\\Downloads\\chromedriver_win32 (2)\\chromedriver.exe\")"
   ]
  },
  {
   "cell_type": "code",
   "execution_count": 5,
   "metadata": {},
   "outputs": [],
   "source": [
    "browser.get('https://www.youtube.com/c/GeeksforGeeksVideos/videos')"
   ]
  },
  {
   "cell_type": "code",
   "execution_count": 6,
   "metadata": {
    "scrolled": true
   },
   "outputs": [
    {
     "name": "stdout",
     "output_type": "stream",
     "text": [
      "•NaN / NaN \n",
      "       Back\n",
      "      IN\n",
      "Skip navigation  Search\n",
      "        Search\n",
      "      \n",
      "  Search with your voiceSign in  IN\n",
      "Home  \n",
      "    Home\n",
      "  \n",
      "Shorts  \n",
      "    Shorts\n",
      "  \n",
      "Subscriptions  \n",
      "    Subscriptions\n",
      "  \n",
      "Library  \n",
      "    Library\n",
      "  \n",
      "History  \n",
      "    History\n",
      "  \n",
      "GeeksforGeeks\n",
      "  \n",
      "    GeeksforGeeks\n",
      "  \n",
      "  Verified\n",
      "@GeeksforGeeksVideos@GeeksforGeeksVideos596K subscribers2.3K videosSubscribeGeeksforGeeks.org  \n",
      "                Home\n",
      "              \n",
      "  \n",
      "                Videos\n",
      "              \n",
      "  \n",
      "                Shorts\n",
      "              \n",
      "  \n",
      "                Live\n",
      "              \n",
      "  \n",
      "                Playlists\n",
      "              \n",
      "  \n",
      "                Community\n",
      "              \n",
      "  \n",
      "                Channels\n",
      "              \n",
      "  \n",
      "                About\n",
      "                 \n",
      "Search\n",
      "Recently uploaded\n",
      "Popular\n",
      "  0:32\n",
      "Now playing\n",
      "LIVE DSA Sessions By Everyone's Favorite Teacher!  Verified•\n",
      "•\n",
      "1.1K views\n",
      "2 days ago\n",
      "  0:26\n",
      "Now playing\n",
      "GeeksforGeeks Resolution Days 2023 | Never Before Seen Offers!  Verified•\n",
      "•\n",
      "5.5K views\n",
      "3 days ago  5:40\n",
      "Now playing\n",
      "The Top 5 DSA Fails (and How to Avoid Them!)  Verified•\n",
      "•\n",
      "2.5K views\n",
      "6 days ago\n",
      "  0:21\n",
      "Now playing\n",
      "GeeksforGeeks Now On iOS  Verified•\n",
      "•\n",
      "1.3K views\n",
      "8 days ago  0:15\n",
      "Now playing\n",
      "⛄ Merry Christmas, Geeks! ⛄ | Keep Coding Keep Learning | GeeksforGeeks  Verified•\n",
      "•\n",
      "1.3K views\n",
      "2 weeks ago\n",
      "  0:49\n",
      "Now playing\n",
      "Student Success Story: Placed as an SDE at Byju's with Help from GeeksforGeeks  Verified•\n",
      "•\n",
      "1.4K views\n",
      "1 month ago  1:05\n",
      "Now playing\n",
      "Service Based Test Series By GeeksforGeeks  Verified•\n",
      "•\n",
      "880 views\n",
      "1 month ago\n",
      "  0:41\n",
      "Now playing\n",
      "India's Biggest Technical Content Writing Event is now LIVE 🔴 Participate Now | GeeksforGeeks  Verified•\n",
      "•\n",
      "721 views\n",
      "1 month ago  2:50\n",
      "Now playing\n",
      "Landing SDE Role at Paytm | GeeksforGeeks  Verified•\n",
      "•\n",
      "1.3K views\n",
      "1 month ago\n",
      "  0:44\n",
      "Now playing\n",
      "SDE at Paytm using GFG | GeeksforGeeks  Verified•\n",
      "•\n",
      "1.2K views\n",
      "1 month ago  27:52\n",
      "Now playing\n",
      "Roadmap to a Career at Amazon | Preparation Strategies by Senior QAE | GeeksforGeeks  Verified•\n",
      "•\n",
      "4.8K views\n",
      "2 months ago\n",
      "  0:59\n",
      "Now playing\n",
      "Happy Diwali | GeeksforGeeks presents office Diwali Party  Verified•\n",
      "•\n",
      "1.3K views\n",
      "2 months ago  6:01\n",
      "Now playing\n",
      "Data Analysis Complete Roadmap | GeeksforGeeks  Verified•\n",
      "•\n",
      "2.7K views\n",
      "2 months ago\n",
      "  32:16\n",
      "Now playing\n",
      "Roadmap to a Career at Microsoft | Preparation Strategies by Microsoft SDE | GeeksforGeeks  Verified•\n",
      "•\n",
      "4.5K views\n",
      "2 months ago  0:59\n",
      "Now playing\n",
      "Geek Week 2022 |11th - 17th October | GeeksforGeeks  Verified•\n",
      "•\n",
      "3.2K views\n",
      "3 months ago\n",
      "  0:12\n",
      "Now playing\n",
      "Happy Dussehra 🔥  Verified•\n",
      "•\n",
      "1.6K views\n",
      "3 months ago  0:18\n",
      "Now playing\n",
      "Stay Tuned for a Big Surprise!!! | GeeksforGeeks  Verified•\n",
      "•\n",
      "3.1K views\n",
      "3 months ago\n",
      "  1:24\n",
      "Now playing\n",
      "GeeksforGeeks Goes to Delhi Technological University | GfG X DTU  Verified•\n",
      "•\n",
      "1.6K views\n",
      "3 months ago  30:45\n",
      "Now playing\n",
      "Roadmap to a CAREER AT WALMART | Preparation Strategies by Walmart SDE | GeeksforGeeks  Verified•\n",
      "•\n",
      "4.3K views\n",
      "3 months ago\n",
      "  6:02\n",
      "Now playing\n",
      "Everything About Web Development Ft. Prakash SakariRoadmap to Web Development | Everything About Web Development Ft. Prakash Sakari  Verified•\n",
      "•\n",
      "2.1K views\n",
      "3 months ago  3:11\n",
      "Now playing\n",
      "Everything About Web Development Ft. Prakash SakariRoad Map of DSA for Web Development | Everything About Web Development Ft. Prakash Sakari  Verified•\n",
      "•\n",
      "2.5K views\n",
      "3 months ago\n",
      "  8:29\n",
      "Now playing\n",
      "Everything About Web Development Ft. Prakash SakariBiggest Coding Mistakes | Everything About Web Development Ft. Prakash Sakari | GeeksforGeeks  Verified•\n",
      "•\n",
      "2K views\n",
      "4 months ago  2:44\n",
      "Now playing\n",
      "Everything About Web Development Ft. Prakash SakariOverrated Topics in Web Development | Everything About Web Development Ft. Prakash Sakari  Verified•\n",
      "•\n",
      "946 views\n",
      "4 months ago\n",
      "  3:57\n",
      "Now playing\n",
      "Everything About Web Development Ft. Prakash SakariHow Important is UI for Websites? | Everything About Web Development | GeeksforGeeks  Verified•\n",
      "•\n",
      "770 views\n",
      "4 months ago  3:46\n",
      "Now playing\n",
      "Everything About Web Development Ft. Prakash SakariUnderrated Topics in Web Development | Everything About Web Development Ft. Prakash Sakari  Verified•\n",
      "•\n",
      "805 views\n",
      "4 months ago\n",
      "  2:28\n",
      "Now playing\n",
      "Everything About Web Development Ft. Prakash SakariFrameworks to Choose for Web Development | Everything About Web Development Ft. Prakash Sakari  Verified•\n",
      "•\n",
      "1K views\n",
      "4 months ago  2:21\n",
      "Now playing\n",
      "Everything About Web Development Ft. Prakash SakariWhat is Frontend and Backend? | Everything About Web Development Ft. Prakash Sakari | GeeksforGeeks  Verified•\n",
      "•\n",
      "1.6K views\n",
      "4 months ago\n",
      "  3:00\n",
      "Now playing\n",
      "Everything About Web Development Ft. Prakash SakariIs HTML, CSS and Javascript Enough? | Everything About Web Development Ft. Prakash Sakari  Verified•\n",
      "•\n",
      "2K views\n",
      "4 months ago  3:28\n",
      "Now playing\n",
      "Everything About Web Development Ft. Prakash SakariWeb Developers vs Website Builders | Everything About Web Development Ft. Prakash Sakari  Verified•\n",
      "•\n",
      "1.4K views\n",
      "4 months ago\n",
      "  3:01\n",
      "Now playing\n",
      "Everything About Web Development Ft. Prakash SakariFuture of Web Development | Everything About Web Development Ft. Prakash Sakari | GeeksforGeeks  Verified•\n",
      "•\n",
      "2.7K views\n",
      "4 months ago\n",
      "InfoShoppingTap to unmuteIf playback doesn't begin shortly, try restarting your device.Switch cameraShareInclude playlistAn error occurred while retrieving sharing information. Please try again later.Watch laterShareCopy link0:00 / •Watch full videoLive••Scroll for details\n",
      " …\n",
      "NaN / NaN\n",
      "•\n",
      "•\n",
      "GeeksforGeeks - YouTube\n"
     ]
    }
   ],
   "source": [
    "soup = BeautifulSoup(browser.page_source,'html.parser')\n",
    "x = soup.text.replace('\\n\\n', '')\n",
    "print(x)\n"
   ]
  },
  {
   "cell_type": "markdown",
   "metadata": {},
   "source": [
    "### Scraping Title of Video"
   ]
  },
  {
   "cell_type": "code",
   "execution_count": 7,
   "metadata": {},
   "outputs": [
    {
     "data": {
      "text/plain": [
       "[<a aria-label=\"LIVE DSA Sessions By Everyone's Favorite Teacher! by GeeksforGeeks 2 days ago 32 seconds 1,161 views\" class=\"yt-simple-endpoint focus-on-expand style-scope ytd-rich-grid-media\" href=\"/watch?v=qCioG1rwM6I\" id=\"video-title-link\" title=\"LIVE DSA Sessions By Everyone's Favorite Teacher!\"><yt-formatted-string aria-label=\"LIVE DSA Sessions By Everyone's Favorite Teacher! by GeeksforGeeks 2 days ago 32 seconds 1,161 views\" class=\"style-scope ytd-rich-grid-media\" id=\"video-title\">LIVE DSA Sessions By Everyone's Favorite Teacher!</yt-formatted-string></a>,\n",
       " <a aria-label=\"GeeksforGeeks Resolution Days 2023 | Never Before Seen Offers! by GeeksforGeeks 3 days ago 26 seconds 5,564 views\" class=\"yt-simple-endpoint focus-on-expand style-scope ytd-rich-grid-media\" href=\"/watch?v=mckeyuVM07g\" id=\"video-title-link\" title=\"GeeksforGeeks Resolution Days 2023 | Never Before Seen Offers!\"><yt-formatted-string aria-label=\"GeeksforGeeks Resolution Days 2023 | Never Before Seen Offers! by GeeksforGeeks 3 days ago 26 seconds 5,564 views\" class=\"style-scope ytd-rich-grid-media\" id=\"video-title\">GeeksforGeeks Resolution Days 2023 | Never Before Seen Offers!</yt-formatted-string></a>,\n",
       " <a aria-label=\"The Top 5 DSA Fails (and How to Avoid Them!) by GeeksforGeeks 6 days ago 5 minutes, 40 seconds 2,532 views\" class=\"yt-simple-endpoint focus-on-expand style-scope ytd-rich-grid-media\" href=\"/watch?v=jMjSpFObSKM\" id=\"video-title-link\" title=\"The Top 5 DSA Fails (and How to Avoid Them!)\"><yt-formatted-string aria-label=\"The Top 5 DSA Fails (and How to Avoid Them!) by GeeksforGeeks 6 days ago 5 minutes, 40 seconds 2,532 views\" class=\"style-scope ytd-rich-grid-media\" id=\"video-title\">The Top 5 DSA Fails (and How to Avoid Them!)</yt-formatted-string></a>,\n",
       " <a aria-label=\"GeeksforGeeks Now On iOS by GeeksforGeeks 8 days ago 21 seconds 1,323 views\" class=\"yt-simple-endpoint focus-on-expand style-scope ytd-rich-grid-media\" href=\"/watch?v=bMDud1_-x1U\" id=\"video-title-link\" title=\"GeeksforGeeks Now On iOS\"><yt-formatted-string aria-label=\"GeeksforGeeks Now On iOS by GeeksforGeeks 8 days ago 21 seconds 1,323 views\" class=\"style-scope ytd-rich-grid-media\" id=\"video-title\">GeeksforGeeks Now On iOS</yt-formatted-string></a>,\n",
       " <a aria-label=\"⛄ Merry Christmas, Geeks! ⛄ | Keep Coding Keep Learning | GeeksforGeeks by GeeksforGeeks 2 weeks ago 15 seconds 1,339 views\" class=\"yt-simple-endpoint focus-on-expand style-scope ytd-rich-grid-media\" href=\"/watch?v=AESq1z0Okb0\" id=\"video-title-link\" title=\"⛄ Merry Christmas, Geeks! ⛄ | Keep Coding Keep Learning | GeeksforGeeks\"><yt-formatted-string aria-label=\"⛄ Merry Christmas, Geeks! ⛄ | Keep Coding Keep Learning | GeeksforGeeks by GeeksforGeeks 2 weeks ago 15 seconds 1,339 views\" class=\"style-scope ytd-rich-grid-media\" id=\"video-title\">⛄ Merry Christmas, Geeks! ⛄ | Keep Coding Keep Learning | GeeksforGeeks</yt-formatted-string></a>,\n",
       " <a aria-label=\"Student Success Story: Placed as an SDE at Byju's with Help from GeeksforGeeks by GeeksforGeeks 1 month ago 49 seconds 1,452 views\" class=\"yt-simple-endpoint focus-on-expand style-scope ytd-rich-grid-media\" href=\"/watch?v=yvkQMMU076M\" id=\"video-title-link\" title=\"Student Success Story: Placed as an SDE at Byju's with Help from GeeksforGeeks\"><yt-formatted-string aria-label=\"Student Success Story: Placed as an SDE at Byju's with Help from GeeksforGeeks by GeeksforGeeks 1 month ago 49 seconds 1,452 views\" class=\"style-scope ytd-rich-grid-media\" id=\"video-title\">Student Success Story: Placed as an SDE at Byju's with Help from GeeksforGeeks</yt-formatted-string></a>,\n",
       " <a aria-label=\"Service Based Test Series By GeeksforGeeks by GeeksforGeeks 1 month ago 1 minute, 5 seconds 880 views\" class=\"yt-simple-endpoint focus-on-expand style-scope ytd-rich-grid-media\" href=\"/watch?v=84a0IXscfgE\" id=\"video-title-link\" title=\"Service Based Test Series By GeeksforGeeks\"><yt-formatted-string aria-label=\"Service Based Test Series By GeeksforGeeks by GeeksforGeeks 1 month ago 1 minute, 5 seconds 880 views\" class=\"style-scope ytd-rich-grid-media\" id=\"video-title\">Service Based Test Series By GeeksforGeeks</yt-formatted-string></a>,\n",
       " <a aria-label=\"India's Biggest Technical Content Writing Event is now LIVE 🔴 Participate Now | GeeksforGeeks by GeeksforGeeks 1 month ago 41 seconds 721 views\" class=\"yt-simple-endpoint focus-on-expand style-scope ytd-rich-grid-media\" href=\"/watch?v=J63OOZzo-p8\" id=\"video-title-link\" title=\"India's Biggest Technical Content Writing Event is now LIVE 🔴 Participate Now | GeeksforGeeks\"><yt-formatted-string aria-label=\"India's Biggest Technical Content Writing Event is now LIVE 🔴 Participate Now | GeeksforGeeks by GeeksforGeeks 1 month ago 41 seconds 721 views\" class=\"style-scope ytd-rich-grid-media\" id=\"video-title\">India's Biggest Technical Content Writing Event is now LIVE 🔴 Participate Now | GeeksforGeeks</yt-formatted-string></a>,\n",
       " <a aria-label=\"Landing SDE Role at Paytm | GeeksforGeeks by GeeksforGeeks 1 month ago 2 minutes, 50 seconds 1,392 views\" class=\"yt-simple-endpoint focus-on-expand style-scope ytd-rich-grid-media\" href=\"/watch?v=fyo53bLMyA4\" id=\"video-title-link\" title=\"Landing SDE Role at Paytm | GeeksforGeeks\"><yt-formatted-string aria-label=\"Landing SDE Role at Paytm | GeeksforGeeks by GeeksforGeeks 1 month ago 2 minutes, 50 seconds 1,392 views\" class=\"style-scope ytd-rich-grid-media\" id=\"video-title\">Landing SDE Role at Paytm | GeeksforGeeks</yt-formatted-string></a>,\n",
       " <a aria-label=\"SDE at Paytm using GFG | GeeksforGeeks by GeeksforGeeks 1 month ago 44 seconds 1,267 views\" class=\"yt-simple-endpoint focus-on-expand style-scope ytd-rich-grid-media\" href=\"/watch?v=RB1qpEZrcYo\" id=\"video-title-link\" title=\"SDE at Paytm using GFG | GeeksforGeeks\"><yt-formatted-string aria-label=\"SDE at Paytm using GFG | GeeksforGeeks by GeeksforGeeks 1 month ago 44 seconds 1,267 views\" class=\"style-scope ytd-rich-grid-media\" id=\"video-title\">SDE at Paytm using GFG | GeeksforGeeks</yt-formatted-string></a>,\n",
       " <a aria-label=\"Roadmap to a Career at Amazon | Preparation Strategies by Senior QAE | GeeksforGeeks by GeeksforGeeks 2 months ago 27 minutes 4,891 views\" class=\"yt-simple-endpoint focus-on-expand style-scope ytd-rich-grid-media\" href=\"/watch?v=e_nnIOwhgzY\" id=\"video-title-link\" title=\"Roadmap to a Career at Amazon | Preparation Strategies by Senior QAE | GeeksforGeeks\"><yt-formatted-string aria-label=\"Roadmap to a Career at Amazon | Preparation Strategies by Senior QAE | GeeksforGeeks by GeeksforGeeks 2 months ago 27 minutes 4,891 views\" class=\"style-scope ytd-rich-grid-media\" id=\"video-title\">Roadmap to a Career at Amazon | Preparation Strategies by Senior QAE | GeeksforGeeks</yt-formatted-string></a>,\n",
       " <a aria-label=\"Happy Diwali | GeeksforGeeks presents office Diwali Party by GeeksforGeeks 2 months ago 59 seconds 1,319 views\" class=\"yt-simple-endpoint focus-on-expand style-scope ytd-rich-grid-media\" href=\"/watch?v=mCvuYVwmU2Y\" id=\"video-title-link\" title=\"Happy Diwali | GeeksforGeeks presents office Diwali Party\"><yt-formatted-string aria-label=\"Happy Diwali | GeeksforGeeks presents office Diwali Party by GeeksforGeeks 2 months ago 59 seconds 1,319 views\" class=\"style-scope ytd-rich-grid-media\" id=\"video-title\">Happy Diwali | GeeksforGeeks presents office Diwali Party</yt-formatted-string></a>,\n",
       " <a aria-label=\"Data Analysis Complete Roadmap | GeeksforGeeks by GeeksforGeeks 2 months ago 6 minutes, 1 second 2,760 views\" class=\"yt-simple-endpoint focus-on-expand style-scope ytd-rich-grid-media\" href=\"/watch?v=VIg0Ka5U3LA\" id=\"video-title-link\" title=\"Data Analysis Complete Roadmap | GeeksforGeeks\"><yt-formatted-string aria-label=\"Data Analysis Complete Roadmap | GeeksforGeeks by GeeksforGeeks 2 months ago 6 minutes, 1 second 2,760 views\" class=\"style-scope ytd-rich-grid-media\" id=\"video-title\">Data Analysis Complete Roadmap | GeeksforGeeks</yt-formatted-string></a>,\n",
       " <a aria-label=\"Roadmap to a Career at Microsoft | Preparation Strategies by Microsoft SDE | GeeksforGeeks by GeeksforGeeks 2 months ago 32 minutes 4,534 views\" class=\"yt-simple-endpoint focus-on-expand style-scope ytd-rich-grid-media\" href=\"/watch?v=CyI0QuVWawQ\" id=\"video-title-link\" title=\"Roadmap to a Career at Microsoft | Preparation Strategies by Microsoft SDE | GeeksforGeeks\"><yt-formatted-string aria-label=\"Roadmap to a Career at Microsoft | Preparation Strategies by Microsoft SDE | GeeksforGeeks by GeeksforGeeks 2 months ago 32 minutes 4,534 views\" class=\"style-scope ytd-rich-grid-media\" id=\"video-title\">Roadmap to a Career at Microsoft | Preparation Strategies by Microsoft SDE | GeeksforGeeks</yt-formatted-string></a>,\n",
       " <a aria-label=\"Geek Week 2022 |11th - 17th October | GeeksforGeeks by GeeksforGeeks 3 months ago 59 seconds 3,295 views\" class=\"yt-simple-endpoint focus-on-expand style-scope ytd-rich-grid-media\" href=\"/watch?v=Aby3ldYnIQE\" id=\"video-title-link\" title=\"Geek Week 2022 |11th - 17th October | GeeksforGeeks\"><yt-formatted-string aria-label=\"Geek Week 2022 |11th - 17th October | GeeksforGeeks by GeeksforGeeks 3 months ago 59 seconds 3,295 views\" class=\"style-scope ytd-rich-grid-media\" id=\"video-title\">Geek Week 2022 |11th - 17th October | GeeksforGeeks</yt-formatted-string></a>,\n",
       " <a aria-label=\"Happy Dussehra 🔥 by GeeksforGeeks 3 months ago 12 seconds 1,614 views\" class=\"yt-simple-endpoint focus-on-expand style-scope ytd-rich-grid-media\" href=\"/watch?v=WkzmnYyEoc8\" id=\"video-title-link\" title=\"Happy Dussehra 🔥\"><yt-formatted-string aria-label=\"Happy Dussehra 🔥 by GeeksforGeeks 3 months ago 12 seconds 1,614 views\" class=\"style-scope ytd-rich-grid-media\" id=\"video-title\">Happy Dussehra 🔥</yt-formatted-string></a>,\n",
       " <a aria-label=\"Stay Tuned for a Big Surprise!!! | GeeksforGeeks by GeeksforGeeks 3 months ago 18 seconds 3,124 views\" class=\"yt-simple-endpoint focus-on-expand style-scope ytd-rich-grid-media\" href=\"/watch?v=STVrifPDpVU\" id=\"video-title-link\" title=\"Stay Tuned for a Big Surprise!!! | GeeksforGeeks\"><yt-formatted-string aria-label=\"Stay Tuned for a Big Surprise!!! | GeeksforGeeks by GeeksforGeeks 3 months ago 18 seconds 3,124 views\" class=\"style-scope ytd-rich-grid-media\" id=\"video-title\">Stay Tuned for a Big Surprise!!! | GeeksforGeeks</yt-formatted-string></a>,\n",
       " <a aria-label=\"GeeksforGeeks Goes to Delhi Technological University | GfG X DTU by GeeksforGeeks 3 months ago 1 minute, 24 seconds 1,635 views\" class=\"yt-simple-endpoint focus-on-expand style-scope ytd-rich-grid-media\" href=\"/watch?v=QqHMu9gwlno\" id=\"video-title-link\" title=\"GeeksforGeeks Goes to Delhi Technological University | GfG X DTU\"><yt-formatted-string aria-label=\"GeeksforGeeks Goes to Delhi Technological University | GfG X DTU by GeeksforGeeks 3 months ago 1 minute, 24 seconds 1,635 views\" class=\"style-scope ytd-rich-grid-media\" id=\"video-title\">GeeksforGeeks Goes to Delhi Technological University | GfG X DTU</yt-formatted-string></a>,\n",
       " <a aria-label=\"Roadmap to a CAREER AT WALMART | Preparation Strategies by Walmart SDE | GeeksforGeeks by GeeksforGeeks 3 months ago 30 minutes 4,368 views\" class=\"yt-simple-endpoint focus-on-expand style-scope ytd-rich-grid-media\" href=\"/watch?v=AQHyMunhc_k\" id=\"video-title-link\" title=\"Roadmap to a CAREER AT WALMART | Preparation Strategies by Walmart SDE | GeeksforGeeks\"><yt-formatted-string aria-label=\"Roadmap to a CAREER AT WALMART | Preparation Strategies by Walmart SDE | GeeksforGeeks by GeeksforGeeks 3 months ago 30 minutes 4,368 views\" class=\"style-scope ytd-rich-grid-media\" id=\"video-title\">Roadmap to a CAREER AT WALMART | Preparation Strategies by Walmart SDE | GeeksforGeeks</yt-formatted-string></a>,\n",
       " <a aria-label=\"Roadmap to Web Development | Everything About Web Development Ft. Prakash Sakari by GeeksforGeeks 3 months ago 6 minutes, 2 seconds 2,113 views\" class=\"yt-simple-endpoint focus-on-expand style-scope ytd-rich-grid-media\" href=\"/watch?v=PLdt7UobcoY\" id=\"video-title-link\" title=\"Roadmap to Web Development | Everything About Web Development Ft. Prakash Sakari\"><yt-formatted-string aria-label=\"Roadmap to Web Development | Everything About Web Development Ft. Prakash Sakari by GeeksforGeeks 3 months ago 6 minutes, 2 seconds 2,113 views\" class=\"style-scope ytd-rich-grid-media\" id=\"video-title\">Roadmap to Web Development | Everything About Web Development Ft. Prakash Sakari</yt-formatted-string></a>,\n",
       " <a aria-label=\"Road Map of DSA for Web Development | Everything About Web Development Ft. Prakash Sakari by GeeksforGeeks 3 months ago 3 minutes, 11 seconds 2,588 views\" class=\"yt-simple-endpoint focus-on-expand style-scope ytd-rich-grid-media\" href=\"/watch?v=1b0P4IG7MIc\" id=\"video-title-link\" title=\"Road Map of DSA for Web Development | Everything About Web Development Ft. Prakash Sakari\"><yt-formatted-string aria-label=\"Road Map of DSA for Web Development | Everything About Web Development Ft. Prakash Sakari by GeeksforGeeks 3 months ago 3 minutes, 11 seconds 2,588 views\" class=\"style-scope ytd-rich-grid-media\" id=\"video-title\">Road Map of DSA for Web Development | Everything About Web Development Ft. Prakash Sakari</yt-formatted-string></a>,\n",
       " <a aria-label=\"Biggest Coding Mistakes | Everything About Web Development Ft. Prakash Sakari | GeeksforGeeks by GeeksforGeeks 4 months ago 8 minutes, 29 seconds 2,019 views\" class=\"yt-simple-endpoint focus-on-expand style-scope ytd-rich-grid-media\" href=\"/watch?v=cAYfzY-9dao\" id=\"video-title-link\" title=\"Biggest Coding Mistakes | Everything About Web Development Ft. Prakash Sakari | GeeksforGeeks\"><yt-formatted-string aria-label=\"Biggest Coding Mistakes | Everything About Web Development Ft. Prakash Sakari | GeeksforGeeks by GeeksforGeeks 4 months ago 8 minutes, 29 seconds 2,019 views\" class=\"style-scope ytd-rich-grid-media\" id=\"video-title\">Biggest Coding Mistakes | Everything About Web Development Ft. Prakash Sakari | GeeksforGeeks</yt-formatted-string></a>,\n",
       " <a aria-label=\"Overrated Topics in Web Development | Everything About Web Development Ft. Prakash Sakari by GeeksforGeeks 4 months ago 2 minutes, 44 seconds 946 views\" class=\"yt-simple-endpoint focus-on-expand style-scope ytd-rich-grid-media\" href=\"/watch?v=wnwAYPTf9Z8\" id=\"video-title-link\" title=\"Overrated Topics in Web Development | Everything About Web Development Ft. Prakash Sakari\"><yt-formatted-string aria-label=\"Overrated Topics in Web Development | Everything About Web Development Ft. Prakash Sakari by GeeksforGeeks 4 months ago 2 minutes, 44 seconds 946 views\" class=\"style-scope ytd-rich-grid-media\" id=\"video-title\">Overrated Topics in Web Development | Everything About Web Development Ft. Prakash Sakari</yt-formatted-string></a>,\n",
       " <a aria-label=\"How Important is UI for Websites? | Everything About Web Development | GeeksforGeeks by GeeksforGeeks 4 months ago 3 minutes, 57 seconds 770 views\" class=\"yt-simple-endpoint focus-on-expand style-scope ytd-rich-grid-media\" href=\"/watch?v=imRxEskXGx8\" id=\"video-title-link\" title=\"How Important is UI for Websites? | Everything About Web Development | GeeksforGeeks\"><yt-formatted-string aria-label=\"How Important is UI for Websites? | Everything About Web Development | GeeksforGeeks by GeeksforGeeks 4 months ago 3 minutes, 57 seconds 770 views\" class=\"style-scope ytd-rich-grid-media\" id=\"video-title\">How Important is UI for Websites? | Everything About Web Development | GeeksforGeeks</yt-formatted-string></a>,\n",
       " <a aria-label=\"Underrated Topics in Web Development | Everything About Web Development Ft. Prakash Sakari by GeeksforGeeks 4 months ago 3 minutes, 46 seconds 805 views\" class=\"yt-simple-endpoint focus-on-expand style-scope ytd-rich-grid-media\" href=\"/watch?v=MvxiK9tfjNw\" id=\"video-title-link\" title=\"Underrated Topics in Web Development | Everything About Web Development Ft. Prakash Sakari\"><yt-formatted-string aria-label=\"Underrated Topics in Web Development | Everything About Web Development Ft. Prakash Sakari by GeeksforGeeks 4 months ago 3 minutes, 46 seconds 805 views\" class=\"style-scope ytd-rich-grid-media\" id=\"video-title\">Underrated Topics in Web Development | Everything About Web Development Ft. Prakash Sakari</yt-formatted-string></a>,\n",
       " <a aria-label=\"Frameworks to Choose for Web Development | Everything About Web Development Ft. Prakash Sakari by GeeksforGeeks 4 months ago 2 minutes, 28 seconds 1,058 views\" class=\"yt-simple-endpoint focus-on-expand style-scope ytd-rich-grid-media\" href=\"/watch?v=UbFk-BTDnqM\" id=\"video-title-link\" title=\"Frameworks to Choose for Web Development | Everything About Web Development Ft. Prakash Sakari\"><yt-formatted-string aria-label=\"Frameworks to Choose for Web Development | Everything About Web Development Ft. Prakash Sakari by GeeksforGeeks 4 months ago 2 minutes, 28 seconds 1,058 views\" class=\"style-scope ytd-rich-grid-media\" id=\"video-title\">Frameworks to Choose for Web Development | Everything About Web Development Ft. Prakash Sakari</yt-formatted-string></a>,\n",
       " <a aria-label=\"What is Frontend and Backend? | Everything About Web Development Ft. Prakash Sakari | GeeksforGeeks by GeeksforGeeks 4 months ago 2 minutes, 21 seconds 1,694 views\" class=\"yt-simple-endpoint focus-on-expand style-scope ytd-rich-grid-media\" href=\"/watch?v=xJNtTqSj54M\" id=\"video-title-link\" title=\"What is Frontend and Backend? | Everything About Web Development Ft. Prakash Sakari | GeeksforGeeks\"><yt-formatted-string aria-label=\"What is Frontend and Backend? | Everything About Web Development Ft. Prakash Sakari | GeeksforGeeks by GeeksforGeeks 4 months ago 2 minutes, 21 seconds 1,694 views\" class=\"style-scope ytd-rich-grid-media\" id=\"video-title\">What is Frontend and Backend? | Everything About Web Development Ft. Prakash Sakari | GeeksforGeeks</yt-formatted-string></a>,\n",
       " <a aria-label=\"Is HTML, CSS and Javascript Enough? | Everything About Web Development Ft. Prakash Sakari by GeeksforGeeks 4 months ago 3 minutes 2,038 views\" class=\"yt-simple-endpoint focus-on-expand style-scope ytd-rich-grid-media\" href=\"/watch?v=EtZIUwvjzjI\" id=\"video-title-link\" title=\"Is HTML, CSS and Javascript Enough? | Everything About Web Development Ft. Prakash Sakari\"><yt-formatted-string aria-label=\"Is HTML, CSS and Javascript Enough? | Everything About Web Development Ft. Prakash Sakari by GeeksforGeeks 4 months ago 3 minutes 2,038 views\" class=\"style-scope ytd-rich-grid-media\" id=\"video-title\">Is HTML, CSS and Javascript Enough? | Everything About Web Development Ft. Prakash Sakari</yt-formatted-string></a>,\n",
       " <a aria-label=\"Web Developers vs Website Builders | Everything About Web Development Ft. Prakash Sakari by GeeksforGeeks 4 months ago 3 minutes, 28 seconds 1,492 views\" class=\"yt-simple-endpoint focus-on-expand style-scope ytd-rich-grid-media\" href=\"/watch?v=s09kmxXbPOg\" id=\"video-title-link\" title=\"Web Developers vs Website Builders | Everything About Web Development Ft. Prakash Sakari\"><yt-formatted-string aria-label=\"Web Developers vs Website Builders | Everything About Web Development Ft. Prakash Sakari by GeeksforGeeks 4 months ago 3 minutes, 28 seconds 1,492 views\" class=\"style-scope ytd-rich-grid-media\" id=\"video-title\">Web Developers vs Website Builders | Everything About Web Development Ft. Prakash Sakari</yt-formatted-string></a>,\n",
       " <a aria-label=\"Future of Web Development | Everything About Web Development Ft. Prakash Sakari | GeeksforGeeks by GeeksforGeeks 4 months ago 3 minutes, 1 second 2,747 views\" class=\"yt-simple-endpoint focus-on-expand style-scope ytd-rich-grid-media\" href=\"/watch?v=B40zC1_sJiE\" id=\"video-title-link\" title=\"Future of Web Development | Everything About Web Development Ft. Prakash Sakari | GeeksforGeeks\"><yt-formatted-string aria-label=\"Future of Web Development | Everything About Web Development Ft. Prakash Sakari | GeeksforGeeks by GeeksforGeeks 4 months ago 3 minutes, 1 second 2,747 views\" class=\"style-scope ytd-rich-grid-media\" id=\"video-title\">Future of Web Development | Everything About Web Development Ft. Prakash Sakari | GeeksforGeeks</yt-formatted-string></a>]"
      ]
     },
     "execution_count": 7,
     "metadata": {},
     "output_type": "execute_result"
    }
   ],
   "source": [
    "soup.find_all('a',class_='yt-simple-endpoint focus-on-expand style-scope ytd-rich-grid-media')"
   ]
  },
  {
   "cell_type": "code",
   "execution_count": 8,
   "metadata": {},
   "outputs": [
    {
     "data": {
      "text/plain": [
       "30"
      ]
     },
     "execution_count": 8,
     "metadata": {},
     "output_type": "execute_result"
    }
   ],
   "source": [
    "len(soup.find_all('a',class_='yt-simple-endpoint focus-on-expand style-scope ytd-rich-grid-media'))"
   ]
  },
  {
   "cell_type": "code",
   "execution_count": 9,
   "metadata": {},
   "outputs": [
    {
     "data": {
      "text/plain": [
       "<a aria-label=\"Future of Web Development | Everything About Web Development Ft. Prakash Sakari | GeeksforGeeks by GeeksforGeeks 4 months ago 3 minutes, 1 second 2,747 views\" class=\"yt-simple-endpoint focus-on-expand style-scope ytd-rich-grid-media\" href=\"/watch?v=B40zC1_sJiE\" id=\"video-title-link\" title=\"Future of Web Development | Everything About Web Development Ft. Prakash Sakari | GeeksforGeeks\"><yt-formatted-string aria-label=\"Future of Web Development | Everything About Web Development Ft. Prakash Sakari | GeeksforGeeks by GeeksforGeeks 4 months ago 3 minutes, 1 second 2,747 views\" class=\"style-scope ytd-rich-grid-media\" id=\"video-title\">Future of Web Development | Everything About Web Development Ft. Prakash Sakari | GeeksforGeeks</yt-formatted-string></a>"
      ]
     },
     "execution_count": 9,
     "metadata": {},
     "output_type": "execute_result"
    }
   ],
   "source": [
    "soup.find_all('a',class_='yt-simple-endpoint focus-on-expand style-scope ytd-rich-grid-media')[-1]"
   ]
  },
  {
   "cell_type": "code",
   "execution_count": 11,
   "metadata": {},
   "outputs": [],
   "source": [
    "title=[]\n",
    "for sp in (soup.find_all('a',class_='yt-simple-endpoint focus-on-expand style-scope ytd-rich-grid-media')):\n",
    "    i = sp.get('title')\n",
    "    title.append(i)"
   ]
  },
  {
   "cell_type": "code",
   "execution_count": 12,
   "metadata": {},
   "outputs": [
    {
     "data": {
      "text/plain": [
       "[\"LIVE DSA Sessions By Everyone's Favorite Teacher!\",\n",
       " 'GeeksforGeeks Resolution Days 2023 | Never Before Seen Offers!',\n",
       " 'The Top 5 DSA Fails (and How to Avoid Them!)',\n",
       " 'GeeksforGeeks Now On iOS',\n",
       " '⛄ Merry Christmas, Geeks! ⛄ | Keep Coding Keep Learning | GeeksforGeeks',\n",
       " \"Student Success Story: Placed as an SDE at Byju's with Help from GeeksforGeeks\",\n",
       " 'Service Based Test Series By GeeksforGeeks',\n",
       " \"India's Biggest Technical Content Writing Event is now LIVE 🔴 Participate Now | GeeksforGeeks\",\n",
       " 'Landing SDE Role at Paytm | GeeksforGeeks',\n",
       " 'SDE at Paytm using GFG | GeeksforGeeks',\n",
       " 'Roadmap to a Career at Amazon | Preparation Strategies by Senior QAE | GeeksforGeeks',\n",
       " 'Happy Diwali | GeeksforGeeks presents office Diwali Party',\n",
       " 'Data Analysis Complete Roadmap | GeeksforGeeks',\n",
       " 'Roadmap to a Career at Microsoft | Preparation Strategies by Microsoft SDE | GeeksforGeeks',\n",
       " 'Geek Week 2022 |11th - 17th October | GeeksforGeeks',\n",
       " 'Happy Dussehra 🔥',\n",
       " 'Stay Tuned for a Big Surprise!!! | GeeksforGeeks',\n",
       " 'GeeksforGeeks Goes to Delhi Technological University | GfG X DTU',\n",
       " 'Roadmap to a CAREER AT WALMART | Preparation Strategies by Walmart SDE | GeeksforGeeks',\n",
       " 'Roadmap to Web Development | Everything About Web Development Ft. Prakash Sakari',\n",
       " 'Road Map of DSA for Web Development | Everything About Web Development Ft. Prakash Sakari',\n",
       " 'Biggest Coding Mistakes | Everything About Web Development Ft. Prakash Sakari | GeeksforGeeks',\n",
       " 'Overrated Topics in Web Development | Everything About Web Development Ft. Prakash Sakari',\n",
       " 'How Important is UI for Websites? | Everything About Web Development | GeeksforGeeks',\n",
       " 'Underrated Topics in Web Development | Everything About Web Development Ft. Prakash Sakari',\n",
       " 'Frameworks to Choose for Web Development | Everything About Web Development Ft. Prakash Sakari',\n",
       " 'What is Frontend and Backend? | Everything About Web Development Ft. Prakash Sakari | GeeksforGeeks',\n",
       " 'Is HTML, CSS and Javascript Enough? | Everything About Web Development Ft. Prakash Sakari',\n",
       " 'Web Developers vs Website Builders | Everything About Web Development Ft. Prakash Sakari',\n",
       " 'Future of Web Development | Everything About Web Development Ft. Prakash Sakari | GeeksforGeeks']"
      ]
     },
     "execution_count": 12,
     "metadata": {},
     "output_type": "execute_result"
    }
   ],
   "source": [
    "title"
   ]
  },
  {
   "cell_type": "markdown",
   "metadata": {},
   "source": [
    "### Links of Videos"
   ]
  },
  {
   "cell_type": "code",
   "execution_count": 13,
   "metadata": {},
   "outputs": [],
   "source": [
    "sp = soup.find_all('a',class_='yt-simple-endpoint focus-on-expand style-scope ytd-rich-grid-media')"
   ]
  },
  {
   "cell_type": "code",
   "execution_count": 14,
   "metadata": {},
   "outputs": [
    {
     "data": {
      "text/plain": [
       "<a aria-label=\"LIVE DSA Sessions By Everyone's Favorite Teacher! by GeeksforGeeks 2 days ago 32 seconds 1,161 views\" class=\"yt-simple-endpoint focus-on-expand style-scope ytd-rich-grid-media\" href=\"/watch?v=qCioG1rwM6I\" id=\"video-title-link\" title=\"LIVE DSA Sessions By Everyone's Favorite Teacher!\"><yt-formatted-string aria-label=\"LIVE DSA Sessions By Everyone's Favorite Teacher! by GeeksforGeeks 2 days ago 32 seconds 1,161 views\" class=\"style-scope ytd-rich-grid-media\" id=\"video-title\">LIVE DSA Sessions By Everyone's Favorite Teacher!</yt-formatted-string></a>"
      ]
     },
     "execution_count": 14,
     "metadata": {},
     "output_type": "execute_result"
    }
   ],
   "source": [
    "sp[0]"
   ]
  },
  {
   "cell_type": "code",
   "execution_count": 15,
   "metadata": {},
   "outputs": [],
   "source": [
    "links = ''\n",
    "for i in range(30):\n",
    "    links += sp[i].get('href')\n",
    "    links = (links + '\\n')"
   ]
  },
  {
   "cell_type": "code",
   "execution_count": 16,
   "metadata": {
    "scrolled": true
   },
   "outputs": [
    {
     "name": "stdout",
     "output_type": "stream",
     "text": [
      "/watch?v=qCioG1rwM6I\n",
      "/watch?v=mckeyuVM07g\n",
      "/watch?v=jMjSpFObSKM\n",
      "/watch?v=bMDud1_-x1U\n",
      "/watch?v=AESq1z0Okb0\n",
      "/watch?v=yvkQMMU076M\n",
      "/watch?v=84a0IXscfgE\n",
      "/watch?v=J63OOZzo-p8\n",
      "/watch?v=fyo53bLMyA4\n",
      "/watch?v=RB1qpEZrcYo\n",
      "/watch?v=e_nnIOwhgzY\n",
      "/watch?v=mCvuYVwmU2Y\n",
      "/watch?v=VIg0Ka5U3LA\n",
      "/watch?v=CyI0QuVWawQ\n",
      "/watch?v=Aby3ldYnIQE\n",
      "/watch?v=WkzmnYyEoc8\n",
      "/watch?v=STVrifPDpVU\n",
      "/watch?v=QqHMu9gwlno\n",
      "/watch?v=AQHyMunhc_k\n",
      "/watch?v=PLdt7UobcoY\n",
      "/watch?v=1b0P4IG7MIc\n",
      "/watch?v=cAYfzY-9dao\n",
      "/watch?v=wnwAYPTf9Z8\n",
      "/watch?v=imRxEskXGx8\n",
      "/watch?v=MvxiK9tfjNw\n",
      "/watch?v=UbFk-BTDnqM\n",
      "/watch?v=xJNtTqSj54M\n",
      "/watch?v=EtZIUwvjzjI\n",
      "/watch?v=s09kmxXbPOg\n",
      "/watch?v=B40zC1_sJiE\n",
      "\n"
     ]
    }
   ],
   "source": [
    "print(links)"
   ]
  },
  {
   "cell_type": "markdown",
   "metadata": {},
   "source": [
    "### Views and Upload date"
   ]
  },
  {
   "cell_type": "code",
   "execution_count": 17,
   "metadata": {
    "scrolled": true
   },
   "outputs": [
    {
     "data": {
      "text/plain": [
       "['1.1K views',\n",
       " '2 days ago',\n",
       " '5.5K views',\n",
       " '3 days ago',\n",
       " '2.5K views',\n",
       " '6 days ago',\n",
       " '1.3K views',\n",
       " '8 days ago',\n",
       " '1.3K views',\n",
       " '2 weeks ago',\n",
       " '1.4K views',\n",
       " '1 month ago',\n",
       " '880 views',\n",
       " '1 month ago',\n",
       " '721 views',\n",
       " '1 month ago',\n",
       " '1.3K views',\n",
       " '1 month ago',\n",
       " '1.2K views',\n",
       " '1 month ago',\n",
       " '4.8K views',\n",
       " '2 months ago',\n",
       " '1.3K views',\n",
       " '2 months ago',\n",
       " '2.7K views',\n",
       " '2 months ago',\n",
       " '4.5K views',\n",
       " '2 months ago',\n",
       " '3.2K views',\n",
       " '3 months ago',\n",
       " '1.6K views',\n",
       " '3 months ago',\n",
       " '3.1K views',\n",
       " '3 months ago',\n",
       " '1.6K views',\n",
       " '3 months ago',\n",
       " '4.3K views',\n",
       " '3 months ago',\n",
       " '2.1K views',\n",
       " '3 months ago',\n",
       " '2.5K views',\n",
       " '3 months ago',\n",
       " '2K views',\n",
       " '4 months ago',\n",
       " '946 views',\n",
       " '4 months ago',\n",
       " '770 views',\n",
       " '4 months ago',\n",
       " '805 views',\n",
       " '4 months ago',\n",
       " '1K views',\n",
       " '4 months ago',\n",
       " '1.6K views',\n",
       " '4 months ago',\n",
       " '2K views',\n",
       " '4 months ago',\n",
       " '1.4K views',\n",
       " '4 months ago',\n",
       " '2.7K views',\n",
       " '4 months ago']"
      ]
     },
     "execution_count": 17,
     "metadata": {},
     "output_type": "execute_result"
    }
   ],
   "source": [
    "data=[]\n",
    "for x in soup.find_all('span',class_='inline-metadata-item style-scope ytd-video-meta-block'):\n",
    "    data.append(x.text)\n",
    "data"
   ]
  },
  {
   "cell_type": "code",
   "execution_count": 18,
   "metadata": {},
   "outputs": [],
   "source": [
    "views = []\n",
    "upload=[]\n",
    "for i in range(len(data)):\n",
    "    if(i%2==0):\n",
    "        views.append(data[i])\n",
    "    else:\n",
    "        upload.append(data[i])"
   ]
  },
  {
   "cell_type": "code",
   "execution_count": 19,
   "metadata": {},
   "outputs": [
    {
     "data": {
      "text/plain": [
       "30"
      ]
     },
     "execution_count": 19,
     "metadata": {},
     "output_type": "execute_result"
    }
   ],
   "source": [
    "len(views)"
   ]
  },
  {
   "cell_type": "code",
   "execution_count": 20,
   "metadata": {},
   "outputs": [
    {
     "data": {
      "text/plain": [
       "30"
      ]
     },
     "execution_count": 20,
     "metadata": {},
     "output_type": "execute_result"
    }
   ],
   "source": [
    "len(upload)"
   ]
  },
  {
   "cell_type": "code",
   "execution_count": null,
   "metadata": {},
   "outputs": [],
   "source": []
  }
 ],
 "metadata": {
  "kernelspec": {
   "display_name": "Python 3",
   "language": "python",
   "name": "python3"
  },
  "language_info": {
   "codemirror_mode": {
    "name": "ipython",
    "version": 3
   },
   "file_extension": ".py",
   "mimetype": "text/x-python",
   "name": "python",
   "nbconvert_exporter": "python",
   "pygments_lexer": "ipython3",
   "version": "3.8.5"
  }
 },
 "nbformat": 4,
 "nbformat_minor": 4
}
