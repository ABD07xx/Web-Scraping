{
 "cells": [
  {
   "cell_type": "markdown",
   "metadata": {},
   "source": [
    "## Setting up\n"
   ]
  },
  {
   "cell_type": "code",
   "execution_count": 1,
   "metadata": {},
   "outputs": [
    {
     "name": "stderr",
     "output_type": "stream",
     "text": [
      "C:\\Users\\Abdullah Fazili\\anaconda3\\lib\\site-packages\\requests\\__init__.py:89: RequestsDependencyWarning: urllib3 (1.26.11) or chardet (3.0.4) doesn't match a supported version!\n",
      "  warnings.warn(\"urllib3 ({}) or chardet ({}) doesn't match a supported \"\n"
     ]
    }
   ],
   "source": [
    "import pandas as pd\n",
    "import requests\n",
    "from bs4 import BeautifulSoup\n",
    "import time\n",
    "from time import sleep\n",
    "import numpy as np\n",
    "from tqdm import tqdm\n",
    "from selenium import webdriver\n",
    "import chromedriver_binary\n",
    "from selenium.webdriver.common.by import By\n",
    "from selenium.webdriver.chrome.options import Options\n",
    "\n",
    "\n",
    "path = chromedriver_binary.chromedriver_filename\n",
    "link = 'https://www.forbes.com/india-billionaires/list/#tab:overall'"
   ]
  },
  {
   "cell_type": "code",
   "execution_count": 2,
   "metadata": {},
   "outputs": [
    {
     "name": "stderr",
     "output_type": "stream",
     "text": [
      "<ipython-input-2-127fab2d0df5>:1: DeprecationWarning: executable_path has been deprecated, please pass in a Service object\n",
      "  browser = webdriver.Chrome(path)\n"
     ]
    }
   ],
   "source": [
    "browser = webdriver.Chrome(path)\n",
    "browser.get(link)"
   ]
  },
  {
   "cell_type": "code",
   "execution_count": 3,
   "metadata": {},
   "outputs": [],
   "source": [
    "soup = BeautifulSoup(browser.page_source,'html.parser')\n"
   ]
  },
  {
   "cell_type": "markdown",
   "metadata": {},
   "source": [
    "### Scrolling to reach bottom of page "
   ]
  },
  {
   "cell_type": "code",
   "execution_count": 4,
   "metadata": {
    "scrolled": true
   },
   "outputs": [
    {
     "name": "stderr",
     "output_type": "stream",
     "text": [
      "100%|██████████████████████████████████████████████████████████████████████████████████| 12/12 [00:12<00:00,  1.02s/it]\n"
     ]
    }
   ],
   "source": [
    "for i in tqdm(range(0,12000,1000)):\n",
    "    browser.execute_script(\"window.scrollTo(0,\" + str(i) + \")\")\n",
    "    time.sleep(1)"
   ]
  },
  {
   "cell_type": "markdown",
   "metadata": {},
   "source": [
    "### Scraping data from page"
   ]
  },
  {
   "cell_type": "code",
   "execution_count": 5,
   "metadata": {
    "scrolled": true
   },
   "outputs": [],
   "source": [
    "data = []\n",
    "soup = BeautifulSoup(browser.page_source,'html.parser')\n",
    "for sp in soup.find_all('tr',class_='data'): \n",
    "        name = sp.find('td',class_='name').text\n",
    "        rank = sp.find('td',class_='rank').text.strip('#')\n",
    "        link = sp.find('a').get('href')\n",
    "        image= sp.find('img').get('src')\n",
    "        data.append([rank,name,image,link])\n",
    "        "
   ]
  },
  {
   "cell_type": "code",
   "execution_count": 6,
   "metadata": {},
   "outputs": [
    {
     "data": {
      "text/html": [
       "<div>\n",
       "<style scoped>\n",
       "    .dataframe tbody tr th:only-of-type {\n",
       "        vertical-align: middle;\n",
       "    }\n",
       "\n",
       "    .dataframe tbody tr th {\n",
       "        vertical-align: top;\n",
       "    }\n",
       "\n",
       "    .dataframe thead th {\n",
       "        text-align: right;\n",
       "    }\n",
       "</style>\n",
       "<table border=\"1\" class=\"dataframe\">\n",
       "  <thead>\n",
       "    <tr style=\"text-align: right;\">\n",
       "      <th></th>\n",
       "      <th>Rank</th>\n",
       "      <th>Name</th>\n",
       "      <th>Image</th>\n",
       "      <th>Link</th>\n",
       "    </tr>\n",
       "  </thead>\n",
       "  <tbody>\n",
       "    <tr>\n",
       "      <th>0</th>\n",
       "      <td>1</td>\n",
       "      <td>Mukesh Ambani</td>\n",
       "      <td>//specials-images.forbesimg.com/imageserve/5c7...</td>\n",
       "      <td>/profile/mukesh-ambani/?list=india-billionaires</td>\n",
       "    </tr>\n",
       "    <tr>\n",
       "      <th>1</th>\n",
       "      <td>2</td>\n",
       "      <td>Gautam Adani</td>\n",
       "      <td>//specials-images.forbesimg.com/imageserve/624...</td>\n",
       "      <td>/profile/gautam-adani/?list=india-billionaires</td>\n",
       "    </tr>\n",
       "    <tr>\n",
       "      <th>2</th>\n",
       "      <td>3</td>\n",
       "      <td>Shiv Nadar</td>\n",
       "      <td>//specials-images.forbesimg.com/imageserve/605...</td>\n",
       "      <td>/profile/shiv-nadar/?list=india-billionaires</td>\n",
       "    </tr>\n",
       "    <tr>\n",
       "      <th>3</th>\n",
       "      <td>4</td>\n",
       "      <td>Radhakishan Damani</td>\n",
       "      <td>//specials-images.forbesimg.com/imageserve/59d...</td>\n",
       "      <td>/profile/radhakishan-damani/?list=india-billio...</td>\n",
       "    </tr>\n",
       "    <tr>\n",
       "      <th>4</th>\n",
       "      <td>5</td>\n",
       "      <td>Cyrus Poonawalla</td>\n",
       "      <td>//specials-images.forbesimg.com/imageserve/5e7...</td>\n",
       "      <td>/profile/cyrus-poonawalla/?list=india-billiona...</td>\n",
       "    </tr>\n",
       "  </tbody>\n",
       "</table>\n",
       "</div>"
      ],
      "text/plain": [
       "  Rank                Name                                              Image  \\\n",
       "0   1        Mukesh Ambani  //specials-images.forbesimg.com/imageserve/5c7...   \n",
       "1   2         Gautam Adani  //specials-images.forbesimg.com/imageserve/624...   \n",
       "2   3           Shiv Nadar  //specials-images.forbesimg.com/imageserve/605...   \n",
       "3   4   Radhakishan Damani  //specials-images.forbesimg.com/imageserve/59d...   \n",
       "4   5     Cyrus Poonawalla  //specials-images.forbesimg.com/imageserve/5e7...   \n",
       "\n",
       "                                                Link  \n",
       "0    /profile/mukesh-ambani/?list=india-billionaires  \n",
       "1     /profile/gautam-adani/?list=india-billionaires  \n",
       "2       /profile/shiv-nadar/?list=india-billionaires  \n",
       "3  /profile/radhakishan-damani/?list=india-billio...  \n",
       "4  /profile/cyrus-poonawalla/?list=india-billiona...  "
      ]
     },
     "execution_count": 6,
     "metadata": {},
     "output_type": "execute_result"
    }
   ],
   "source": [
    "df= pd.DataFrame(data,columns=['Rank','Name','Image','Link'])\n",
    "df.head()"
   ]
  },
  {
   "cell_type": "markdown",
   "metadata": {},
   "source": [
    "### Changing image and link to useable formats"
   ]
  },
  {
   "cell_type": "code",
   "execution_count": 7,
   "metadata": {},
   "outputs": [],
   "source": [
    "df['Image'] = 'https:' + df['Image']"
   ]
  },
  {
   "cell_type": "code",
   "execution_count": 8,
   "metadata": {},
   "outputs": [
    {
     "name": "stdout",
     "output_type": "stream",
     "text": [
      "https://specials-images.forbesimg.com/imageserve/5c7d7829a7ea434b351ba0b6/832x832.jpg?background=000000&cropX1=206&cropX2=2043&cropY1=250&cropY2=2089\n"
     ]
    }
   ],
   "source": [
    "print(df['Image'][0])"
   ]
  },
  {
   "cell_type": "code",
   "execution_count": 9,
   "metadata": {},
   "outputs": [],
   "source": [
    "df['Link'] = 'https://www.forbes.com/'  + df['Link']"
   ]
  },
  {
   "cell_type": "code",
   "execution_count": 10,
   "metadata": {},
   "outputs": [
    {
     "name": "stdout",
     "output_type": "stream",
     "text": [
      "https://www.forbes.com//profile/mukesh-ambani/?list=india-billionaires\n"
     ]
    }
   ],
   "source": [
    "print(df['Link'][0])"
   ]
  },
  {
   "cell_type": "code",
   "execution_count": 11,
   "metadata": {},
   "outputs": [
    {
     "data": {
      "text/html": [
       "<div>\n",
       "<style scoped>\n",
       "    .dataframe tbody tr th:only-of-type {\n",
       "        vertical-align: middle;\n",
       "    }\n",
       "\n",
       "    .dataframe tbody tr th {\n",
       "        vertical-align: top;\n",
       "    }\n",
       "\n",
       "    .dataframe thead th {\n",
       "        text-align: right;\n",
       "    }\n",
       "</style>\n",
       "<table border=\"1\" class=\"dataframe\">\n",
       "  <thead>\n",
       "    <tr style=\"text-align: right;\">\n",
       "      <th></th>\n",
       "      <th>Rank</th>\n",
       "      <th>Name</th>\n",
       "      <th>Image</th>\n",
       "      <th>Link</th>\n",
       "    </tr>\n",
       "  </thead>\n",
       "  <tbody>\n",
       "    <tr>\n",
       "      <th>0</th>\n",
       "      <td>1</td>\n",
       "      <td>Mukesh Ambani</td>\n",
       "      <td>https://specials-images.forbesimg.com/imageser...</td>\n",
       "      <td>https://www.forbes.com//profile/mukesh-ambani/...</td>\n",
       "    </tr>\n",
       "    <tr>\n",
       "      <th>1</th>\n",
       "      <td>2</td>\n",
       "      <td>Gautam Adani</td>\n",
       "      <td>https://specials-images.forbesimg.com/imageser...</td>\n",
       "      <td>https://www.forbes.com//profile/gautam-adani/?...</td>\n",
       "    </tr>\n",
       "    <tr>\n",
       "      <th>2</th>\n",
       "      <td>3</td>\n",
       "      <td>Shiv Nadar</td>\n",
       "      <td>https://specials-images.forbesimg.com/imageser...</td>\n",
       "      <td>https://www.forbes.com//profile/shiv-nadar/?li...</td>\n",
       "    </tr>\n",
       "    <tr>\n",
       "      <th>3</th>\n",
       "      <td>4</td>\n",
       "      <td>Radhakishan Damani</td>\n",
       "      <td>https://specials-images.forbesimg.com/imageser...</td>\n",
       "      <td>https://www.forbes.com//profile/radhakishan-da...</td>\n",
       "    </tr>\n",
       "    <tr>\n",
       "      <th>4</th>\n",
       "      <td>5</td>\n",
       "      <td>Cyrus Poonawalla</td>\n",
       "      <td>https://specials-images.forbesimg.com/imageser...</td>\n",
       "      <td>https://www.forbes.com//profile/cyrus-poonawal...</td>\n",
       "    </tr>\n",
       "  </tbody>\n",
       "</table>\n",
       "</div>"
      ],
      "text/plain": [
       "  Rank                Name                                              Image  \\\n",
       "0   1        Mukesh Ambani  https://specials-images.forbesimg.com/imageser...   \n",
       "1   2         Gautam Adani  https://specials-images.forbesimg.com/imageser...   \n",
       "2   3           Shiv Nadar  https://specials-images.forbesimg.com/imageser...   \n",
       "3   4   Radhakishan Damani  https://specials-images.forbesimg.com/imageser...   \n",
       "4   5     Cyrus Poonawalla  https://specials-images.forbesimg.com/imageser...   \n",
       "\n",
       "                                                Link  \n",
       "0  https://www.forbes.com//profile/mukesh-ambani/...  \n",
       "1  https://www.forbes.com//profile/gautam-adani/?...  \n",
       "2  https://www.forbes.com//profile/shiv-nadar/?li...  \n",
       "3  https://www.forbes.com//profile/radhakishan-da...  \n",
       "4  https://www.forbes.com//profile/cyrus-poonawal...  "
      ]
     },
     "execution_count": 11,
     "metadata": {},
     "output_type": "execute_result"
    }
   ],
   "source": [
    "df.head()"
   ]
  },
  {
   "cell_type": "code",
   "execution_count": 12,
   "metadata": {},
   "outputs": [],
   "source": [
    "df.drop(100,inplace=True)"
   ]
  },
  {
   "cell_type": "markdown",
   "metadata": {},
   "source": [
    "### Saving page scrap "
   ]
  },
  {
   "cell_type": "code",
   "execution_count": 13,
   "metadata": {},
   "outputs": [],
   "source": [
    "df.to_csv('PageScrap.csv',index=False)"
   ]
  },
  {
   "cell_type": "markdown",
   "metadata": {},
   "source": [
    "### Profile Scraper"
   ]
  },
  {
   "cell_type": "code",
   "execution_count": 14,
   "metadata": {
    "scrolled": true
   },
   "outputs": [
    {
     "data": {
      "text/html": [
       "<div>\n",
       "<style scoped>\n",
       "    .dataframe tbody tr th:only-of-type {\n",
       "        vertical-align: middle;\n",
       "    }\n",
       "\n",
       "    .dataframe tbody tr th {\n",
       "        vertical-align: top;\n",
       "    }\n",
       "\n",
       "    .dataframe thead th {\n",
       "        text-align: right;\n",
       "    }\n",
       "</style>\n",
       "<table border=\"1\" class=\"dataframe\">\n",
       "  <thead>\n",
       "    <tr style=\"text-align: right;\">\n",
       "      <th></th>\n",
       "      <th>Rank</th>\n",
       "      <th>Name</th>\n",
       "      <th>Image</th>\n",
       "      <th>Link</th>\n",
       "    </tr>\n",
       "  </thead>\n",
       "  <tbody>\n",
       "    <tr>\n",
       "      <th>0</th>\n",
       "      <td>1</td>\n",
       "      <td>Mukesh Ambani</td>\n",
       "      <td>https://specials-images.forbesimg.com/imageser...</td>\n",
       "      <td>https://www.forbes.com//profile/mukesh-ambani/...</td>\n",
       "    </tr>\n",
       "    <tr>\n",
       "      <th>1</th>\n",
       "      <td>2</td>\n",
       "      <td>Gautam Adani</td>\n",
       "      <td>https://specials-images.forbesimg.com/imageser...</td>\n",
       "      <td>https://www.forbes.com//profile/gautam-adani/?...</td>\n",
       "    </tr>\n",
       "    <tr>\n",
       "      <th>2</th>\n",
       "      <td>3</td>\n",
       "      <td>Shiv Nadar</td>\n",
       "      <td>https://specials-images.forbesimg.com/imageser...</td>\n",
       "      <td>https://www.forbes.com//profile/shiv-nadar/?li...</td>\n",
       "    </tr>\n",
       "    <tr>\n",
       "      <th>3</th>\n",
       "      <td>4</td>\n",
       "      <td>Radhakishan Damani</td>\n",
       "      <td>https://specials-images.forbesimg.com/imageser...</td>\n",
       "      <td>https://www.forbes.com//profile/radhakishan-da...</td>\n",
       "    </tr>\n",
       "    <tr>\n",
       "      <th>4</th>\n",
       "      <td>5</td>\n",
       "      <td>Cyrus Poonawalla</td>\n",
       "      <td>https://specials-images.forbesimg.com/imageser...</td>\n",
       "      <td>https://www.forbes.com//profile/cyrus-poonawal...</td>\n",
       "    </tr>\n",
       "    <tr>\n",
       "      <th>...</th>\n",
       "      <td>...</td>\n",
       "      <td>...</td>\n",
       "      <td>...</td>\n",
       "      <td>...</td>\n",
       "    </tr>\n",
       "    <tr>\n",
       "      <th>95</th>\n",
       "      <td>96</td>\n",
       "      <td>Chandrakant &amp; Rajendra Gogri</td>\n",
       "      <td>https://specials-images.forbesimg.com/imageser...</td>\n",
       "      <td>https://www.forbes.com//profile/chandrakant-ra...</td>\n",
       "    </tr>\n",
       "    <tr>\n",
       "      <th>96</th>\n",
       "      <td>97</td>\n",
       "      <td>Deepak Mehta</td>\n",
       "      <td>https://specials-images.forbesimg.com/imageser...</td>\n",
       "      <td>https://www.forbes.com//profile/deepak-mehta-1...</td>\n",
       "    </tr>\n",
       "    <tr>\n",
       "      <th>97</th>\n",
       "      <td>98</td>\n",
       "      <td>Vinod Saraf</td>\n",
       "      <td>https://specials-images.forbesimg.com/imageser...</td>\n",
       "      <td>https://www.forbes.com//profile/vinod-saraf/?l...</td>\n",
       "    </tr>\n",
       "    <tr>\n",
       "      <th>98</th>\n",
       "      <td>99</td>\n",
       "      <td>Bajranglal Taparia</td>\n",
       "      <td>https://specials-images.forbesimg.com/imageser...</td>\n",
       "      <td>https://www.forbes.com//profile/bajranglal-tap...</td>\n",
       "    </tr>\n",
       "    <tr>\n",
       "      <th>99</th>\n",
       "      <td>100</td>\n",
       "      <td>Yogesh Kothari</td>\n",
       "      <td>https://specials-images.forbesimg.com/imageser...</td>\n",
       "      <td>https://www.forbes.com//profile/yogesh-kothari...</td>\n",
       "    </tr>\n",
       "  </tbody>\n",
       "</table>\n",
       "<p>100 rows × 4 columns</p>\n",
       "</div>"
      ],
      "text/plain": [
       "    Rank                          Name  \\\n",
       "0     1                  Mukesh Ambani   \n",
       "1     2                   Gautam Adani   \n",
       "2     3                     Shiv Nadar   \n",
       "3     4             Radhakishan Damani   \n",
       "4     5               Cyrus Poonawalla   \n",
       "..   ...                           ...   \n",
       "95   96   Chandrakant & Rajendra Gogri   \n",
       "96   97                   Deepak Mehta   \n",
       "97   98                    Vinod Saraf   \n",
       "98   99             Bajranglal Taparia   \n",
       "99  100                 Yogesh Kothari   \n",
       "\n",
       "                                                Image  \\\n",
       "0   https://specials-images.forbesimg.com/imageser...   \n",
       "1   https://specials-images.forbesimg.com/imageser...   \n",
       "2   https://specials-images.forbesimg.com/imageser...   \n",
       "3   https://specials-images.forbesimg.com/imageser...   \n",
       "4   https://specials-images.forbesimg.com/imageser...   \n",
       "..                                                ...   \n",
       "95  https://specials-images.forbesimg.com/imageser...   \n",
       "96  https://specials-images.forbesimg.com/imageser...   \n",
       "97  https://specials-images.forbesimg.com/imageser...   \n",
       "98  https://specials-images.forbesimg.com/imageser...   \n",
       "99  https://specials-images.forbesimg.com/imageser...   \n",
       "\n",
       "                                                 Link  \n",
       "0   https://www.forbes.com//profile/mukesh-ambani/...  \n",
       "1   https://www.forbes.com//profile/gautam-adani/?...  \n",
       "2   https://www.forbes.com//profile/shiv-nadar/?li...  \n",
       "3   https://www.forbes.com//profile/radhakishan-da...  \n",
       "4   https://www.forbes.com//profile/cyrus-poonawal...  \n",
       "..                                                ...  \n",
       "95  https://www.forbes.com//profile/chandrakant-ra...  \n",
       "96  https://www.forbes.com//profile/deepak-mehta-1...  \n",
       "97  https://www.forbes.com//profile/vinod-saraf/?l...  \n",
       "98  https://www.forbes.com//profile/bajranglal-tap...  \n",
       "99  https://www.forbes.com//profile/yogesh-kothari...  \n",
       "\n",
       "[100 rows x 4 columns]"
      ]
     },
     "execution_count": 14,
     "metadata": {},
     "output_type": "execute_result"
    }
   ],
   "source": [
    "df"
   ]
  },
  {
   "cell_type": "code",
   "execution_count": 15,
   "metadata": {},
   "outputs": [
    {
     "name": "stderr",
     "output_type": "stream",
     "text": [
      "<ipython-input-15-3527e6639d52>:2: DeprecationWarning: executable_path has been deprecated, please pass in a Service object\n",
      "  browser = webdriver.Chrome(path)\n",
      "100%|████████████████████████████████████████████████████████████████████████████████| 100/100 [07:51<00:00,  4.71s/it]\n"
     ]
    }
   ],
   "source": [
    "data2=[]\n",
    "browser = webdriver.Chrome(path)\n",
    "for i in tqdm(df['Link']):  \n",
    "    browser.get(i)\n",
    "    soup        = BeautifulSoup(browser.page_source,'html.parser')\n",
    "    try:\n",
    "        worth       = soup.find('div',class_='profile-info__item-value').text\n",
    "    except:\n",
    "        worth       = np.nan\n",
    "    try:\n",
    "        age         = soup.find('div',class_='listuser-content__block person-stats').text.replace('Personal StatsAge',' , ').replace('Source of Wealth',' , ').replace('Residence',' , ').replace('Citizenship',' , ').replace('Marital Status',' , ').replace('Children',' , ').replace('Education',' , ').split(' , ')[1]\n",
    "    except:\n",
    "        age         = np.nan\n",
    "    try:\n",
    "        source      = soup.find('div',class_='listuser-content__block person-stats').text.replace('Personal StatsAge',' , ').replace('Source of Wealth',' , ').replace('Residence',' , ').replace('Citizenship',' , ').replace('Marital Status',' , ').replace('Children',' , ').replace('Education',' , ').split(' , ')[2]\n",
    "    except:\n",
    "        source      = np.nan\n",
    "    try:\n",
    "        residence   = soup.find('div',class_='listuser-content__block person-stats').text.replace('Personal StatsAge',' , ').replace('Source of Wealth',' , ').replace('Residence',' , ').replace('Citizenship',' , ').replace('Marital Status',' , ').replace('Children',' , ').replace('Education',' , ').split(' , ')[3]\n",
    "    except:\n",
    "        residence   = np.nan\n",
    "    try:    \n",
    "        citizenship = soup.find('div',class_='listuser-content__block person-stats').text.replace('Personal StatsAge',' , ').replace('Source of Wealth',' , ').replace('Residence',' , ').replace('Citizenship',' , ').replace('Marital Status',' , ').replace('Children',' , ').replace('Education',' , ').split(' , ')[4]\n",
    "    except:\n",
    "        citizenship = np.nan\n",
    "    try:    \n",
    "        marital     = soup.find('div',class_='listuser-content__block person-stats').text.replace('Personal StatsAge',' , ').replace('Source of Wealth',' , ').replace('Residence',' , ').replace('Citizenship',' , ').replace('Marital Status',' , ').replace('Children',' , ').replace('Education',' , ').split(' , ')[5]\n",
    "    except:\n",
    "        marital     = np.nan\n",
    "    try:\n",
    "        children    = soup.find('div',class_='listuser-content__block person-stats').text.replace('Personal StatsAge',' , ').replace('Source of Wealth',' , ').replace('Residence',' , ').replace('Citizenship',' , ').replace('Marital Status',' , ').replace('Children',' , ').replace('Education',' , ').split(' , ')[6]\n",
    "    except:\n",
    "        children    = np.nan\n",
    "    try:    \n",
    "        education   = soup.find('div',class_='listuser-content__block person-stats').text.replace('Personal StatsAge',' , ').replace('Source of Wealth',' , ').replace('Residence',' , ').replace('Citizenship',' , ').replace('Marital Status',' , ').replace('Children',' , ').replace('Education',' , ').split(' , ')[7]\n",
    "    except:\n",
    "        education   = np.nan\n",
    "    data2.append([worth,age,source,residence,citizenship,marital,children,education])\n"
   ]
  },
  {
   "cell_type": "code",
   "execution_count": 16,
   "metadata": {},
   "outputs": [],
   "source": [
    "df_2 = pd.DataFrame(data2,columns=['Worth','Age','Income Source','Residence','Citizenship','Marital Status','Children','Education'])"
   ]
  },
  {
   "cell_type": "code",
   "execution_count": 21,
   "metadata": {
    "scrolled": true
   },
   "outputs": [
    {
     "data": {
      "text/html": [
       "<div>\n",
       "<style scoped>\n",
       "    .dataframe tbody tr th:only-of-type {\n",
       "        vertical-align: middle;\n",
       "    }\n",
       "\n",
       "    .dataframe tbody tr th {\n",
       "        vertical-align: top;\n",
       "    }\n",
       "\n",
       "    .dataframe thead th {\n",
       "        text-align: right;\n",
       "    }\n",
       "</style>\n",
       "<table border=\"1\" class=\"dataframe\">\n",
       "  <thead>\n",
       "    <tr style=\"text-align: right;\">\n",
       "      <th></th>\n",
       "      <th>Worth</th>\n",
       "      <th>Age</th>\n",
       "      <th>Income Source</th>\n",
       "      <th>Residence</th>\n",
       "      <th>Citizenship</th>\n",
       "      <th>Marital Status</th>\n",
       "      <th>Children</th>\n",
       "      <th>Education</th>\n",
       "    </tr>\n",
       "  </thead>\n",
       "  <tbody>\n",
       "    <tr>\n",
       "      <th>0</th>\n",
       "      <td>$94.1B</td>\n",
       "      <td>65</td>\n",
       "      <td>diversified</td>\n",
       "      <td>Mumbai, India</td>\n",
       "      <td>India</td>\n",
       "      <td>Married</td>\n",
       "      <td>3</td>\n",
       "      <td>Drop Out, Stanford University; Bachelor of Sci...</td>\n",
       "    </tr>\n",
       "    <tr>\n",
       "      <th>1</th>\n",
       "      <td>$74.8B</td>\n",
       "      <td>60</td>\n",
       "      <td>commodities, infrastructure, Self Made</td>\n",
       "      <td>Ahmedabad, India</td>\n",
       "      <td>India</td>\n",
       "      <td>Married</td>\n",
       "      <td>2</td>\n",
       "      <td>NaN</td>\n",
       "    </tr>\n",
       "    <tr>\n",
       "      <th>2</th>\n",
       "      <td>$22.4B</td>\n",
       "      <td>77</td>\n",
       "      <td>software services, Self Made</td>\n",
       "      <td>Delhi, India</td>\n",
       "      <td>India</td>\n",
       "      <td>Married</td>\n",
       "      <td>1</td>\n",
       "      <td>Bachelor of Arts/Science, PSG College of Techn...</td>\n",
       "    </tr>\n",
       "    <tr>\n",
       "      <th>3</th>\n",
       "      <td>$29.4B</td>\n",
       "      <td>67</td>\n",
       "      <td>retail, investments, Self Made</td>\n",
       "      <td>Mumbai, India</td>\n",
       "      <td>India</td>\n",
       "      <td>Married</td>\n",
       "      <td>3</td>\n",
       "      <td>NaN</td>\n",
       "    </tr>\n",
       "    <tr>\n",
       "      <th>4</th>\n",
       "      <td>$21.5B</td>\n",
       "      <td>81</td>\n",
       "      <td>vaccines</td>\n",
       "      <td>Pune, India</td>\n",
       "      <td>India</td>\n",
       "      <td>Widowed</td>\n",
       "      <td>1</td>\n",
       "      <td>Bachelor of Arts/Science, Pune University; Doc...</td>\n",
       "    </tr>\n",
       "  </tbody>\n",
       "</table>\n",
       "</div>"
      ],
      "text/plain": [
       "    Worth Age                           Income Source         Residence  \\\n",
       "0  $94.1B  65                             diversified     Mumbai, India   \n",
       "1  $74.8B  60  commodities, infrastructure, Self Made  Ahmedabad, India   \n",
       "2  $22.4B  77            software services, Self Made      Delhi, India   \n",
       "3  $29.4B  67          retail, investments, Self Made     Mumbai, India   \n",
       "4  $21.5B  81                                vaccines       Pune, India   \n",
       "\n",
       "  Citizenship Marital Status Children  \\\n",
       "0       India        Married        3   \n",
       "1       India        Married        2   \n",
       "2       India        Married        1   \n",
       "3       India        Married        3   \n",
       "4       India        Widowed        1   \n",
       "\n",
       "                                           Education  \n",
       "0  Drop Out, Stanford University; Bachelor of Sci...  \n",
       "1                                                NaN  \n",
       "2  Bachelor of Arts/Science, PSG College of Techn...  \n",
       "3                                                NaN  \n",
       "4  Bachelor of Arts/Science, Pune University; Doc...  "
      ]
     },
     "execution_count": 21,
     "metadata": {},
     "output_type": "execute_result"
    }
   ],
   "source": [
    "df_2.head()"
   ]
  },
  {
   "cell_type": "markdown",
   "metadata": {},
   "source": [
    "### Saving data"
   ]
  },
  {
   "cell_type": "code",
   "execution_count": 22,
   "metadata": {},
   "outputs": [],
   "source": [
    "df_2.to_csv('ProfileScrap.csv',index=False)"
   ]
  },
  {
   "cell_type": "markdown",
   "metadata": {},
   "source": [
    "### Data Combing "
   ]
  },
  {
   "cell_type": "code",
   "execution_count": 23,
   "metadata": {},
   "outputs": [],
   "source": [
    "df_3 = pd.DataFrame()\n",
    "df_3['Rank']          = df['Rank']\n",
    "df_3['Name']          = df['Name']\n",
    "df_3['Age']           = df_2['Age']\n",
    "df_3['Net_Worth']     = df_2['Worth']\n",
    "df_3['Income Source'] = df_2['Income Source']\n",
    "df_3['Residence']     = df_2['Residence']\n",
    "df_3['Citizenship']   = df_2['Citizenship']\n",
    "df_3['Marital Status']= df_2['Marital Status']\n",
    "df_3['Children']      = df_2['Children']\n",
    "df_3['Education']     = df_2['Education']\n",
    "df_3['Image']         = df['Image']\n",
    "df_3['Profile Link']  = df['Link']"
   ]
  },
  {
   "cell_type": "code",
   "execution_count": 24,
   "metadata": {},
   "outputs": [],
   "source": [
    "df_3.to_csv('finalscrape.csv',index=False)"
   ]
  },
  {
   "cell_type": "code",
   "execution_count": 25,
   "metadata": {
    "scrolled": true
   },
   "outputs": [
    {
     "data": {
      "text/html": [
       "<div>\n",
       "<style scoped>\n",
       "    .dataframe tbody tr th:only-of-type {\n",
       "        vertical-align: middle;\n",
       "    }\n",
       "\n",
       "    .dataframe tbody tr th {\n",
       "        vertical-align: top;\n",
       "    }\n",
       "\n",
       "    .dataframe thead th {\n",
       "        text-align: right;\n",
       "    }\n",
       "</style>\n",
       "<table border=\"1\" class=\"dataframe\">\n",
       "  <thead>\n",
       "    <tr style=\"text-align: right;\">\n",
       "      <th></th>\n",
       "      <th>Rank</th>\n",
       "      <th>Name</th>\n",
       "      <th>Age</th>\n",
       "      <th>Net_Worth</th>\n",
       "      <th>Income Source</th>\n",
       "      <th>Residence</th>\n",
       "      <th>Citizenship</th>\n",
       "      <th>Marital Status</th>\n",
       "      <th>Children</th>\n",
       "      <th>Education</th>\n",
       "      <th>Image</th>\n",
       "      <th>Profile Link</th>\n",
       "    </tr>\n",
       "  </thead>\n",
       "  <tbody>\n",
       "    <tr>\n",
       "      <th>0</th>\n",
       "      <td>1</td>\n",
       "      <td>Mukesh Ambani</td>\n",
       "      <td>65</td>\n",
       "      <td>$94.1B</td>\n",
       "      <td>diversified</td>\n",
       "      <td>Mumbai, India</td>\n",
       "      <td>India</td>\n",
       "      <td>Married</td>\n",
       "      <td>3</td>\n",
       "      <td>Drop Out, Stanford University; Bachelor of Sci...</td>\n",
       "      <td>https://specials-images.forbesimg.com/imageser...</td>\n",
       "      <td>https://www.forbes.com//profile/mukesh-ambani/...</td>\n",
       "    </tr>\n",
       "    <tr>\n",
       "      <th>1</th>\n",
       "      <td>2</td>\n",
       "      <td>Gautam Adani</td>\n",
       "      <td>60</td>\n",
       "      <td>$74.8B</td>\n",
       "      <td>commodities, infrastructure, Self Made</td>\n",
       "      <td>Ahmedabad, India</td>\n",
       "      <td>India</td>\n",
       "      <td>Married</td>\n",
       "      <td>2</td>\n",
       "      <td>NaN</td>\n",
       "      <td>https://specials-images.forbesimg.com/imageser...</td>\n",
       "      <td>https://www.forbes.com//profile/gautam-adani/?...</td>\n",
       "    </tr>\n",
       "    <tr>\n",
       "      <th>2</th>\n",
       "      <td>3</td>\n",
       "      <td>Shiv Nadar</td>\n",
       "      <td>77</td>\n",
       "      <td>$22.4B</td>\n",
       "      <td>software services, Self Made</td>\n",
       "      <td>Delhi, India</td>\n",
       "      <td>India</td>\n",
       "      <td>Married</td>\n",
       "      <td>1</td>\n",
       "      <td>Bachelor of Arts/Science, PSG College of Techn...</td>\n",
       "      <td>https://specials-images.forbesimg.com/imageser...</td>\n",
       "      <td>https://www.forbes.com//profile/shiv-nadar/?li...</td>\n",
       "    </tr>\n",
       "    <tr>\n",
       "      <th>3</th>\n",
       "      <td>4</td>\n",
       "      <td>Radhakishan Damani</td>\n",
       "      <td>67</td>\n",
       "      <td>$29.4B</td>\n",
       "      <td>retail, investments, Self Made</td>\n",
       "      <td>Mumbai, India</td>\n",
       "      <td>India</td>\n",
       "      <td>Married</td>\n",
       "      <td>3</td>\n",
       "      <td>NaN</td>\n",
       "      <td>https://specials-images.forbesimg.com/imageser...</td>\n",
       "      <td>https://www.forbes.com//profile/radhakishan-da...</td>\n",
       "    </tr>\n",
       "    <tr>\n",
       "      <th>4</th>\n",
       "      <td>5</td>\n",
       "      <td>Cyrus Poonawalla</td>\n",
       "      <td>81</td>\n",
       "      <td>$21.5B</td>\n",
       "      <td>vaccines</td>\n",
       "      <td>Pune, India</td>\n",
       "      <td>India</td>\n",
       "      <td>Widowed</td>\n",
       "      <td>1</td>\n",
       "      <td>Bachelor of Arts/Science, Pune University; Doc...</td>\n",
       "      <td>https://specials-images.forbesimg.com/imageser...</td>\n",
       "      <td>https://www.forbes.com//profile/cyrus-poonawal...</td>\n",
       "    </tr>\n",
       "  </tbody>\n",
       "</table>\n",
       "</div>"
      ],
      "text/plain": [
       "  Rank                Name Age Net_Worth  \\\n",
       "0   1        Mukesh Ambani  65    $94.1B   \n",
       "1   2         Gautam Adani  60    $74.8B   \n",
       "2   3           Shiv Nadar  77    $22.4B   \n",
       "3   4   Radhakishan Damani  67    $29.4B   \n",
       "4   5     Cyrus Poonawalla  81    $21.5B   \n",
       "\n",
       "                            Income Source         Residence Citizenship  \\\n",
       "0                             diversified     Mumbai, India       India   \n",
       "1  commodities, infrastructure, Self Made  Ahmedabad, India       India   \n",
       "2            software services, Self Made      Delhi, India       India   \n",
       "3          retail, investments, Self Made     Mumbai, India       India   \n",
       "4                                vaccines       Pune, India       India   \n",
       "\n",
       "  Marital Status Children                                          Education  \\\n",
       "0        Married        3  Drop Out, Stanford University; Bachelor of Sci...   \n",
       "1        Married        2                                                NaN   \n",
       "2        Married        1  Bachelor of Arts/Science, PSG College of Techn...   \n",
       "3        Married        3                                                NaN   \n",
       "4        Widowed        1  Bachelor of Arts/Science, Pune University; Doc...   \n",
       "\n",
       "                                               Image  \\\n",
       "0  https://specials-images.forbesimg.com/imageser...   \n",
       "1  https://specials-images.forbesimg.com/imageser...   \n",
       "2  https://specials-images.forbesimg.com/imageser...   \n",
       "3  https://specials-images.forbesimg.com/imageser...   \n",
       "4  https://specials-images.forbesimg.com/imageser...   \n",
       "\n",
       "                                        Profile Link  \n",
       "0  https://www.forbes.com//profile/mukesh-ambani/...  \n",
       "1  https://www.forbes.com//profile/gautam-adani/?...  \n",
       "2  https://www.forbes.com//profile/shiv-nadar/?li...  \n",
       "3  https://www.forbes.com//profile/radhakishan-da...  \n",
       "4  https://www.forbes.com//profile/cyrus-poonawal...  "
      ]
     },
     "execution_count": 25,
     "metadata": {},
     "output_type": "execute_result"
    }
   ],
   "source": [
    "df_3.head()"
   ]
  }
 ],
 "metadata": {
  "kernelspec": {
   "display_name": "Python 3",
   "language": "python",
   "name": "python3"
  },
  "language_info": {
   "codemirror_mode": {
    "name": "ipython",
    "version": 3
   },
   "file_extension": ".py",
   "mimetype": "text/x-python",
   "name": "python",
   "nbconvert_exporter": "python",
   "pygments_lexer": "ipython3",
   "version": "3.8.5"
  }
 },
 "nbformat": 4,
 "nbformat_minor": 4
}
